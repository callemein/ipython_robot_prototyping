{
 "cells": [
  {
   "cell_type": "markdown",
   "metadata": {},
   "source": [
    "## ROS Exercise\n",
    "\n",
    "We have now done some tests with nodes in particular: topics, services, parameters.\n",
    "Apart from these elements ROS also contains other usefull tools.\n",
    "However, these tools will for now remain outside the scope of this workshop.\n",
    "\n",
    "The next task will be experimenting with multiple node *programs*.\n",
    "Up until now we've run nodes inside a Notebook, which is currently single threaded.\n",
    "In order to get out of running inside the notebooks, we've created 2 template files under *src*:\n",
    "* **[node_talker.py](./src/node_talker.py)**. - Which will ask tty input and send that question to the previous talker node (which will reply) \n",
    "* **[node_translator.py](./src/node_translator.py)** - This node will then take the message from node talker and act as translator (reverse the letters) and print it out."
   ]
  },
  {
   "cell_type": "code",
   "execution_count": null,
   "metadata": {},
   "outputs": [],
   "source": []
  }
 ],
 "metadata": {
  "kernelspec": {
   "display_name": "Python 3",
   "language": "python",
   "name": "python3"
  },
  "language_info": {
   "codemirror_mode": {
    "name": "ipython",
    "version": 3
   },
   "file_extension": ".py",
   "mimetype": "text/x-python",
   "name": "python",
   "nbconvert_exporter": "python",
   "pygments_lexer": "ipython3",
   "version": "3.5.2"
  }
 },
 "nbformat": 4,
 "nbformat_minor": 2
}
